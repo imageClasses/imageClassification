{
 "cells": [
  {
   "cell_type": "code",
   "execution_count": 1,
   "id": "e90940b8-de60-4698-9d88-afea15536686",
   "metadata": {},
   "outputs": [],
   "source": [
    "# Notebook to run the competition predictions (+ sampling results)"
   ]
  },
  {
   "cell_type": "code",
   "execution_count": 6,
   "id": "8d1c2290-8649-4df2-bf46-60845de0b949",
   "metadata": {},
   "outputs": [],
   "source": [
    "import torch\n",
    "import os\n",
    "import numpy as np\n",
    "import pandas as pd"
   ]
  },
  {
   "cell_type": "code",
   "execution_count": 7,
   "id": "0939e6e5-5c36-4ab4-ac91-34e96f227d69",
   "metadata": {},
   "outputs": [],
   "source": [
    "# Assuming you have the images in data/images folder. Annotations folder is not needed.\n",
    "# Setting up the data so that we can use the dataloader used in training"
   ]
  },
  {
   "cell_type": "code",
   "execution_count": 8,
   "id": "674c9a0b-e3dd-44c5-87c6-15c0f04dc3cc",
   "metadata": {},
   "outputs": [],
   "source": [
    "# Labels in the correct order\n",
    "label_names = ['baby', 'bird', 'car', 'clouds', 'dog', 'female', 'flower', 'male', 'night', 'people', 'portrait', 'river', 'sea', 'tree']"
   ]
  },
  {
   "cell_type": "code",
   "execution_count": 9,
   "id": "c742c719-a5ad-4514-88fa-0a5bed5cbdd2",
   "metadata": {},
   "outputs": [],
   "source": [
    "# Using numbering from image names as dataframe idx (needed for Dataset class to work)\n",
    "image_names = os.listdir('data/competition/images')\n",
    "image_indices = [int(img.split(\".\")[0][2:]) for img in image_names]"
   ]
  },
  {
   "cell_type": "code",
   "execution_count": 10,
   "id": "d8d7a3ab-ed7e-465c-b5cd-1fddfc43fad2",
   "metadata": {},
   "outputs": [
    {
     "data": {
      "text/plain": [
       "5000"
      ]
     },
     "execution_count": 10,
     "metadata": {},
     "output_type": "execute_result"
    }
   ],
   "source": [
    "# Length of prediction set:\n",
    "len(image_names)"
   ]
  },
  {
   "cell_type": "code",
   "execution_count": 11,
   "id": "2b78dee6-70bf-4585-9b18-f79d20881c92",
   "metadata": {},
   "outputs": [],
   "source": [
    "# Setting up df for Dataset class\n",
    "df = pd.DataFrame(0, index=image_indices, columns=label_names)"
   ]
  },
  {
   "cell_type": "code",
   "execution_count": 12,
   "id": "09b98f6a-ade4-4a2c-a663-d45b6519d318",
   "metadata": {},
   "outputs": [],
   "source": [
    "from src.dataset import CustomImageDataset\n",
    "from src.models import MultiLabelResnet, MultiLabelCNN"
   ]
  },
  {
   "cell_type": "code",
   "execution_count": 13,
   "id": "c259fcb3-b61a-492a-be46-f7464851457c",
   "metadata": {},
   "outputs": [
    {
     "name": "stdout",
     "output_type": "stream",
     "text": [
      "Found cuda device\n"
     ]
    }
   ],
   "source": [
    "if torch.cuda.is_available():\n",
    "    print(\"Found cuda device\")\n",
    "    device = torch.device('cuda')\n",
    "else:\n",
    "    device = torch.device('cpu')"
   ]
  },
  {
   "cell_type": "code",
   "execution_count": 14,
   "id": "44389d3d-b2e0-4dde-8cf6-2a6aa84b62e7",
   "metadata": {},
   "outputs": [],
   "source": [
    "# Which model to use\n",
    "#model_name = \"MultiLabelResnet\"\n",
    "model_name = \"MultiLabelResnet\"\n",
    "\n",
    "# Load model class\n",
    "if model_name==\"MultiLabelResnet\":\n",
    "    model = MultiLabelResnet().to(device)\n",
    "elif model_name==\"MultiLabelCNN\":\n",
    "    model = MultiLabelCNN().to(device)"
   ]
  },
  {
   "cell_type": "code",
   "execution_count": 15,
   "id": "aac23e7a-36e4-4b0c-b0d5-48555cc38ffb",
   "metadata": {},
   "outputs": [
    {
     "data": {
      "text/plain": [
       "<All keys matched successfully>"
      ]
     },
     "execution_count": 15,
     "metadata": {},
     "output_type": "execute_result"
    }
   ],
   "source": [
    "# Load saved model state to model\n",
    "model_state_dict = torch.load(f\"saved_models/{model_name}/model_state.pt\")\n",
    "model.load_state_dict(model_state_dict)"
   ]
  },
  {
   "cell_type": "code",
   "execution_count": 16,
   "id": "0b5a46cd-3a19-48bc-aad1-0509bc936946",
   "metadata": {},
   "outputs": [],
   "source": [
    "# Should return the predictions in the same order from index 0 to len\n",
    "DATA_DIR = 'data/competition/images'\n",
    "batch_size = 64\n",
    "loader = torch.utils.data.DataLoader(dataset=CustomImageDataset(df, DATA_DIR, transform=None), batch_size=batch_size, shuffle=False)"
   ]
  },
  {
   "cell_type": "code",
   "execution_count": 17,
   "id": "20130baf-5ce9-48d5-b1d9-9b88b0edcdec",
   "metadata": {},
   "outputs": [],
   "source": [
    "# RUNNING PREDICTIONS\n",
    "\n",
    "predictions = []\n",
    "\n",
    "with torch.no_grad():\n",
    "    model.eval() #Disables dropout layer\n",
    "    for inputs, labels in loader:\n",
    "        outputs = model(inputs)\n",
    "        predicted_labels = (outputs > 0.5).int()\n",
    "        predictions = predictions + predicted_labels.tolist()"
   ]
  },
  {
   "cell_type": "code",
   "execution_count": 18,
   "id": "d39d86f3-60dd-4847-84b9-6f9f710aee78",
   "metadata": {},
   "outputs": [
    {
     "data": {
      "text/plain": [
       "5000"
      ]
     },
     "execution_count": 18,
     "metadata": {},
     "output_type": "execute_result"
    }
   ],
   "source": [
    "# Length of predictions, should match the image set size\n",
    "len(predictions)"
   ]
  },
  {
   "cell_type": "code",
   "execution_count": 19,
   "id": "8eb4dfee-b396-45e0-90de-5dccfd47ee57",
   "metadata": {},
   "outputs": [
    {
     "data": {
      "text/html": [
       "<div>\n",
       "<style scoped>\n",
       "    .dataframe tbody tr th:only-of-type {\n",
       "        vertical-align: middle;\n",
       "    }\n",
       "\n",
       "    .dataframe tbody tr th {\n",
       "        vertical-align: top;\n",
       "    }\n",
       "\n",
       "    .dataframe thead th {\n",
       "        text-align: right;\n",
       "    }\n",
       "</style>\n",
       "<table border=\"1\" class=\"dataframe\">\n",
       "  <thead>\n",
       "    <tr style=\"text-align: right;\">\n",
       "      <th></th>\n",
       "      <th>image</th>\n",
       "      <th>baby</th>\n",
       "      <th>bird</th>\n",
       "      <th>car</th>\n",
       "      <th>clouds</th>\n",
       "      <th>dog</th>\n",
       "      <th>female</th>\n",
       "      <th>flower</th>\n",
       "      <th>male</th>\n",
       "      <th>night</th>\n",
       "      <th>people</th>\n",
       "      <th>portrait</th>\n",
       "      <th>river</th>\n",
       "      <th>sea</th>\n",
       "      <th>tree</th>\n",
       "    </tr>\n",
       "  </thead>\n",
       "  <tbody>\n",
       "    <tr>\n",
       "      <th>0</th>\n",
       "      <td>im20001.jpg</td>\n",
       "      <td>0</td>\n",
       "      <td>0</td>\n",
       "      <td>0</td>\n",
       "      <td>0</td>\n",
       "      <td>0</td>\n",
       "      <td>0</td>\n",
       "      <td>0</td>\n",
       "      <td>0</td>\n",
       "      <td>0</td>\n",
       "      <td>0</td>\n",
       "      <td>0</td>\n",
       "      <td>0</td>\n",
       "      <td>0</td>\n",
       "      <td>0</td>\n",
       "    </tr>\n",
       "    <tr>\n",
       "      <th>1</th>\n",
       "      <td>im20002.jpg</td>\n",
       "      <td>0</td>\n",
       "      <td>0</td>\n",
       "      <td>0</td>\n",
       "      <td>0</td>\n",
       "      <td>0</td>\n",
       "      <td>0</td>\n",
       "      <td>0</td>\n",
       "      <td>0</td>\n",
       "      <td>0</td>\n",
       "      <td>0</td>\n",
       "      <td>0</td>\n",
       "      <td>0</td>\n",
       "      <td>0</td>\n",
       "      <td>0</td>\n",
       "    </tr>\n",
       "    <tr>\n",
       "      <th>2</th>\n",
       "      <td>im20003.jpg</td>\n",
       "      <td>0</td>\n",
       "      <td>0</td>\n",
       "      <td>0</td>\n",
       "      <td>0</td>\n",
       "      <td>0</td>\n",
       "      <td>0</td>\n",
       "      <td>0</td>\n",
       "      <td>0</td>\n",
       "      <td>0</td>\n",
       "      <td>0</td>\n",
       "      <td>0</td>\n",
       "      <td>0</td>\n",
       "      <td>0</td>\n",
       "      <td>0</td>\n",
       "    </tr>\n",
       "    <tr>\n",
       "      <th>3</th>\n",
       "      <td>im20004.jpg</td>\n",
       "      <td>0</td>\n",
       "      <td>0</td>\n",
       "      <td>0</td>\n",
       "      <td>0</td>\n",
       "      <td>0</td>\n",
       "      <td>0</td>\n",
       "      <td>0</td>\n",
       "      <td>0</td>\n",
       "      <td>0</td>\n",
       "      <td>0</td>\n",
       "      <td>0</td>\n",
       "      <td>0</td>\n",
       "      <td>0</td>\n",
       "      <td>0</td>\n",
       "    </tr>\n",
       "    <tr>\n",
       "      <th>4</th>\n",
       "      <td>im20005.jpg</td>\n",
       "      <td>0</td>\n",
       "      <td>0</td>\n",
       "      <td>0</td>\n",
       "      <td>0</td>\n",
       "      <td>0</td>\n",
       "      <td>0</td>\n",
       "      <td>0</td>\n",
       "      <td>0</td>\n",
       "      <td>0</td>\n",
       "      <td>1</td>\n",
       "      <td>0</td>\n",
       "      <td>0</td>\n",
       "      <td>0</td>\n",
       "      <td>0</td>\n",
       "    </tr>\n",
       "  </tbody>\n",
       "</table>\n",
       "</div>"
      ],
      "text/plain": [
       "         image  baby  bird  car  clouds  dog  female  flower  male  night  \\\n",
       "0  im20001.jpg     0     0    0       0    0       0       0     0      0   \n",
       "1  im20002.jpg     0     0    0       0    0       0       0     0      0   \n",
       "2  im20003.jpg     0     0    0       0    0       0       0     0      0   \n",
       "3  im20004.jpg     0     0    0       0    0       0       0     0      0   \n",
       "4  im20005.jpg     0     0    0       0    0       0       0     0      0   \n",
       "\n",
       "   people  portrait  river  sea  tree  \n",
       "0       0         0      0    0     0  \n",
       "1       0         0      0    0     0  \n",
       "2       0         0      0    0     0  \n",
       "3       0         0      0    0     0  \n",
       "4       1         0      0    0     0  "
      ]
     },
     "execution_count": 19,
     "metadata": {},
     "output_type": "execute_result"
    }
   ],
   "source": [
    "# Results to dataframe\n",
    "results = pd.DataFrame(predictions, columns=label_names)\n",
    "# Add Image Names as a column\n",
    "results.insert(loc=0, column=\"image\", value=image_names)\n",
    "results.head(5)"
   ]
  },
  {
   "cell_type": "code",
   "execution_count": 20,
   "id": "fda4a538-48a9-4b80-949f-501cf545350b",
   "metadata": {},
   "outputs": [],
   "source": [
    "# Predictions to file\n",
    "results.to_csv(\"results.csv\", index=False)"
   ]
  },
  {
   "cell_type": "code",
   "execution_count": null,
   "id": "d53b40e5-0125-4a08-827e-1c865d669f08",
   "metadata": {},
   "outputs": [],
   "source": []
  }
 ],
 "metadata": {
  "kernelspec": {
   "display_name": "Python 3 (ipykernel)",
   "language": "python",
   "name": "python3"
  },
  "language_info": {
   "codemirror_mode": {
    "name": "ipython",
    "version": 3
   },
   "file_extension": ".py",
   "mimetype": "text/x-python",
   "name": "python",
   "nbconvert_exporter": "python",
   "pygments_lexer": "ipython3",
   "version": "3.10.9"
  }
 },
 "nbformat": 4,
 "nbformat_minor": 5
}
