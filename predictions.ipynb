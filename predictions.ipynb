{
 "cells": [
  {
   "cell_type": "code",
   "execution_count": null,
   "id": "44d71643-e3fe-4a29-981f-66dbd5074f40",
   "metadata": {},
   "outputs": [],
   "source": [
    "# How to load a saved model and do predictions"
   ]
  },
  {
   "cell_type": "code",
   "execution_count": null,
   "id": "cb607fca-94f7-49b2-bbf6-8717bfae9cc1",
   "metadata": {},
   "outputs": [],
   "source": [
    "### Loading a model"
   ]
  },
  {
   "cell_type": "code",
   "execution_count": null,
   "id": "c8dbee1a-490f-40da-a498-e852ecf3f8c0",
   "metadata": {},
   "outputs": [],
   "source": [
    "import torch\n",
    "from src.models import MultiLabelResnet, MultiLabelCNN\n",
    "from src import data_handling\n",
    "from src.dataset import CustomImageDataset"
   ]
  },
  {
   "cell_type": "code",
   "execution_count": null,
   "id": "48e7d8a8-cead-4c68-8222-2514753b21f1",
   "metadata": {},
   "outputs": [],
   "source": [
    "if torch.cuda.is_available():\n",
    "    print(\"Found cuda device\")\n",
    "    device = torch.device('cuda')\n",
    "else:\n",
    "    device = torch.device('cpu')"
   ]
  },
  {
   "cell_type": "code",
   "execution_count": null,
   "id": "6e8788b7-f6bc-4b15-8a03-fdb5dfa25d81",
   "metadata": {},
   "outputs": [],
   "source": [
    "#Which model to use\n",
    "#model_name = \"MultiLabelResnet\"\n",
    "model_name = \"MultiLabelResnet\"\n",
    "\n",
    "#Load model class\n",
    "if model_name==\"MultiLabelResnet\":\n",
    "    model = MultiLabelResnet().to(device)\n",
    "elif model_name==\"MultiLabelCNN\":\n",
    "    model = MultiLabelCNN().to(device)"
   ]
  },
  {
   "cell_type": "code",
   "execution_count": null,
   "id": "e53fb582-a7ed-44fc-a151-c4345bca35b4",
   "metadata": {},
   "outputs": [],
   "source": [
    "#Load model state to model\n",
    "model_state_dict = torch.load(f\"saved_models/{model_name}/model_state.pt\")\n",
    "model.load_state_dict(model_state_dict)"
   ]
  },
  {
   "cell_type": "code",
   "execution_count": null,
   "id": "0a245bf3-afce-43e2-b935-a341d1662b11",
   "metadata": {
    "tags": []
   },
   "outputs": [],
   "source": [
    "### Predictions\n",
    "\n",
    "#Loading data\n",
    "DATA_DIR = 'data/images'\n",
    "train, test = data_handling.get_target_dfs(train=0.8, test=0.2)\n",
    "\n",
    "# IF NEW DATA:\n",
    "# If no ground truth, labels can be just set to 0 if you want to use the same dataset module\n",
    "\n",
    "test_loader = torch.utils.data.DataLoader(dataset=CustomImageDataset(test, DATA_DIR, transform=None), batch_size=50, shuffle=False)"
   ]
  },
  {
   "cell_type": "code",
   "execution_count": null,
   "id": "61d0d7c5-c7c3-4e39-8c66-08c7a7dc2c5b",
   "metadata": {},
   "outputs": [],
   "source": [
    "with torch.no_grad():\n",
    "    model.eval() #Disables dropout layer\n",
    "    test_accuracy = 0\n",
    "    for inputs, labels in test_loader:\n",
    "        outputs = model(inputs)\n",
    "        predicted_labels = (outputs > 0.5).int()\n",
    "        test_accuracy += (predicted_labels == labels).float().mean().item()\n",
    "\n",
    "#Note: this \"test\" set is regenerated and might contain data from training set, so accuracy might differ\n",
    "test_accuracy = test_accuracy / len(test_loader)\n",
    "print(f\"Test Accuracy: {test_accuracy*100:.2f}%\")"
   ]
  }
 ],
 "metadata": {
  "kernelspec": {
   "display_name": "Python 3 (ipykernel)",
   "language": "python",
   "name": "python3"
  },
  "language_info": {
   "codemirror_mode": {
    "name": "ipython",
    "version": 3
   },
   "file_extension": ".py",
   "mimetype": "text/x-python",
   "name": "python",
   "nbconvert_exporter": "python",
   "pygments_lexer": "ipython3",
   "version": "3.10.9"
  }
 },
 "nbformat": 4,
 "nbformat_minor": 5
}
